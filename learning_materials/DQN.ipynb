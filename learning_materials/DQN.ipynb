{
 "cells": [
  {
   "cell_type": "code",
   "execution_count": 1,
   "metadata": {
    "colab": {
     "base_uri": "https://localhost:8080/",
     "height": 102
    },
    "colab_type": "code",
    "id": "mgCg9fghYF5N",
    "outputId": "ea79de95-9c77-40f2-912d-127ff8be8b51"
   },
   "outputs": [],
   "source": [
    "import tensorflow as tf\n",
    "import numpy as np\n",
    "import gym\n",
    "from tensorflow.keras.models import load_model"
   ]
  },
  {
   "cell_type": "code",
   "execution_count": 2,
   "metadata": {},
   "outputs": [],
   "source": [
    "import os\n",
    "#os.environ[\"CUDA_VISIBLE_DEVICES\"] = \"-1\""
   ]
  },
  {
   "cell_type": "code",
   "execution_count": 3,
   "metadata": {
    "colab": {},
    "colab_type": "code",
    "id": "PRFJPH3QJNF0"
   },
   "outputs": [],
   "source": [
    "env = gym.make(\"LunarLander-v2\")\n",
    "#env = gym.make(\"CartPole-v0\")"
   ]
  },
  {
   "cell_type": "code",
   "execution_count": null,
   "metadata": {
    "colab": {},
    "colab_type": "code",
    "id": "EPS71gZrYaw-"
   },
   "outputs": [],
   "source": [
    "class model(tf.keras.Model):\n",
    "  def __init__(self):\n",
    "    super().__init__()\n",
    "    self.d1 = tf.keras.layers.Dense(256,activation='relu')\n",
    "    self.d2 = tf.keras.layers.Dense(256,activation='relu')\n",
    "    self.out = tf.keras.layers.Dense(4,activation=None)\n",
    "\n",
    "  def call(self, input_data):\n",
    "    x = self.d1(input_data)\n",
    "    x = self.d2(x)\n",
    "    x = self.out(x)\n",
    "    return x\n",
    "\n",
    "\n",
    "\n",
    "  def action_value(self, state):\n",
    "        q_values = self.predict(state)\n",
    "        return q_values"
   ]
  },
  {
   "cell_type": "code",
   "execution_count": 5,
   "metadata": {
    "colab": {},
    "colab_type": "code",
    "id": "5gpDPUJLD3lG"
   },
   "outputs": [],
   "source": [
    "class experience():\n",
    "  def __init__(self, buffer_size, state_dim):\n",
    "    self.buffer_size = buffer_size\n",
    "    self.pointer = 0\n",
    "    self.state_mem = np.zeros((self.buffer_size, *state_dim), dtype=np.float32)\n",
    "    self.action_mem = np.zeros(self.buffer_size, dtype=np.int32)\n",
    "    self.next_state_mem = np.zeros((self.buffer_size, *state_dim), dtype=np.float32)\n",
    "    self.reward_mem = np.zeros(self.buffer_size, dtype=np.int32)\n",
    "    self.done_mem = np.zeros(self.buffer_size, dtype=np.bool)\n",
    "\n",
    "  def add_exp(self, state, action, reward, next_state, done):\n",
    "    idx = self.pointer % self.buffer_size\n",
    "    self.state_mem[idx] = state\n",
    "    self.action_mem[idx] = action\n",
    "    self.reward_mem[idx] = reward\n",
    "    self.next_state_mem[idx] = next_state\n",
    "    self.done_mem[idx] = done\n",
    "    self.pointer += 1\n",
    "\n",
    "  def sample_exp(self, batch_size):\n",
    "    max_mem = min(self.pointer, self.buffer_size)\n",
    "    batch = np.random.choice(max_mem, batch_size, replace= False)\n",
    "    state = self.state_mem[batch]\n",
    "    action = self.action_mem[batch]\n",
    "    reward = self.reward_mem[batch]\n",
    "    next_state = self.next_state_mem[batch]\n",
    "    done = self.done_mem[batch]\n",
    "    return state, action , reward, next_state, done"
   ]
  },
  {
   "cell_type": "code",
   "execution_count": 6,
   "metadata": {
    "colab": {},
    "colab_type": "code",
    "id": "ymK5zzMNEmFk"
   },
   "outputs": [],
   "source": [
    "class agent():\n",
    "  def __init__(self):\n",
    "    self.q_net = model()\n",
    "    self.target_net = model()\n",
    "    opt = tf.keras.optimizers.Adam(learning_rate=0.001)\n",
    "    self.q_net.compile(optimizer=opt, loss='mse')\n",
    "    self.target_net.compile(optimizer=opt, loss='mse')\n",
    "    self.epsilon = 1.0\n",
    "    self.epsilon_decay = 1e-3\n",
    "    self.min_epsilon = 0.01\n",
    "    self.memory = experience(buffer_size=1000000, state_dim=env.observation_space.shape)\n",
    "    self.batch_size = 64\n",
    "    self.gamma = 0.99\n",
    "    self.replace = 100\n",
    "    self.trainstep = 0\n",
    "    self.action_space = [i for i in range(4)]\n",
    "  def act(self, state):\n",
    "    if np.random.rand() <= self.epsilon:\n",
    "      #action = env.action_space.sample()\n",
    "      action = np.random.choice(self.action_space)\n",
    "\n",
    "    else:\n",
    "      state = np.array([state])\n",
    "      action = self.q_net.action_value(state)\n",
    "      action = np.argmax(action)\n",
    "\n",
    "    return action\n",
    "\n",
    "  def train(self):\n",
    "      if self.memory.pointer < self.batch_size:\n",
    "        return \n",
    "\n",
    "      if self.trainstep % self.replace == 0:\n",
    "        self.update_target()\n",
    "\n",
    "      states, actions, rewards, next_states, dones = self.memory.sample_exp(self.batch_size)\n",
    "      target = self.q_net.action_value(states)\n",
    "      next_state_val = self.target_net.action_value(next_states)\n",
    "      q_next = tf.math.reduce_max(next_state_val, axis=1, keepdims=True).numpy()\n",
    "      #print(\"next state pred {}\".format(next_state_val))\n",
    "      q_target = np.copy(target)\n",
    "      for i, d in enumerate(dones):\n",
    "        if d:\n",
    "          q_target[i, actions[i]] = rewards[i]\n",
    "\n",
    "        else:\n",
    "          #q_target[i, actions[i]] = rewards[i] + self.gamma * np.max(next_state_val[i])\n",
    "          q_target[i, actions[i]] = rewards[i] + self.gamma * q_next[i]\n",
    "\n",
    "      #print(states)\n",
    "      #print(q_target)    \n",
    "      self.q_net.train_on_batch(states, q_target)\n",
    "      self.update_epsilon()  \n",
    "      self.trainstep +=1\n",
    "\n",
    "\n",
    "  def update_mem(self, state, action, reward, next_state, done):\n",
    "    self.memory.add_exp(state, action, reward, next_state, done)\n",
    "\n",
    "\n",
    "  def update_target(self):\n",
    "    self.target_net.set_weights(self.q_net.get_weights())  \n",
    "\n",
    "\n",
    "  def update_epsilon(self):\n",
    "    self.epsilon = self.epsilon - self.epsilon_decay if self.epsilon > self.min_epsilon else self.min_epsilon\n",
    "    return self.epsilon\n",
    "\n",
    "\n",
    "\n",
    "  def save_model(self):\n",
    "      self.q_net.save(\"model.h5\")\n",
    "      self.target_net.save(\"target_model.h5\")\n",
    "\n",
    "\n",
    "  def load_model(self):\n",
    "        self.q_net = load_model(\"model.h5\")\n",
    "        self.target_net = load_model(\"model.h5\")\n"
   ]
  },
  {
   "cell_type": "code",
   "execution_count": 7,
   "metadata": {
    "colab": {
     "base_uri": "https://localhost:8080/",
     "height": 1000
    },
    "colab_type": "code",
    "id": "KZYwk3ksITw-",
    "outputId": "1119f288-c1bb-4a35-c084-7baea5fc2697"
   },
   "outputs": [
    {
     "name": "stdout",
     "output_type": "stream",
     "text": [
      "total reward after 0 episode is -347.1834742469469 and epsilon is 0.981\n",
      "total reward after 1 episode is -125.70929534718425 and epsilon is 0.8929999999999999\n",
      "total reward after 2 episode is -183.9208249641172 and epsilon is 0.7839999999999998\n",
      "total reward after 3 episode is -231.52028334705773 and epsilon is 0.6909999999999997\n",
      "total reward after 4 episode is -24.558199589241738 and epsilon is 0.6089999999999997\n",
      "total reward after 5 episode is -205.31931083880693 and epsilon is 0.4629999999999995\n",
      "total reward after 6 episode is -27.719630732890877 and epsilon is 0.2199999999999993\n",
      "total reward after 7 episode is -65.3743614643658 and epsilon is 0.02099999999999913\n",
      "total reward after 8 episode is -206.01111045456184 and epsilon is 0.01\n",
      "total reward after 9 episode is -104.41640588576989 and epsilon is 0.01\n",
      "total reward after 10 episode is -222.6566393482246 and epsilon is 0.01\n",
      "total reward after 11 episode is -214.0915126820685 and epsilon is 0.01\n",
      "total reward after 12 episode is -90.0337143470457 and epsilon is 0.01\n",
      "total reward after 13 episode is -339.9288543372039 and epsilon is 0.01\n",
      "total reward after 14 episode is -62.00826401886039 and epsilon is 0.01\n",
      "total reward after 15 episode is 1.2095099665858982 and epsilon is 0.01\n",
      "total reward after 16 episode is 23.26839532915767 and epsilon is 0.01\n",
      "total reward after 17 episode is -176.33856615679 and epsilon is 0.01\n",
      "total reward after 18 episode is -238.77970825365097 and epsilon is 0.01\n",
      "total reward after 19 episode is -170.2755582396563 and epsilon is 0.01\n",
      "total reward after 20 episode is -187.20830410161375 and epsilon is 0.01\n",
      "total reward after 21 episode is -74.83727980565634 and epsilon is 0.01\n",
      "total reward after 22 episode is -111.78788232928096 and epsilon is 0.01\n",
      "total reward after 23 episode is -96.10887310625893 and epsilon is 0.01\n",
      "total reward after 24 episode is -363.0718807483458 and epsilon is 0.01\n",
      "total reward after 25 episode is -128.34403981651948 and epsilon is 0.01\n",
      "total reward after 26 episode is -97.14906781727433 and epsilon is 0.01\n",
      "total reward after 27 episode is -128.63690490041282 and epsilon is 0.01\n",
      "total reward after 28 episode is -56.901636324319995 and epsilon is 0.01\n",
      "total reward after 29 episode is -83.9870729244863 and epsilon is 0.01\n"
     ]
    }
   ],
   "source": [
    "agentoo7 = agent()\n",
    "steps = 30\n",
    "ep_reward = []\n",
    "total_avgr = []\n",
    "\n",
    "for s in range(steps):\n",
    "  done = False\n",
    "  state = env.reset()\n",
    "  total_reward = 0\n",
    "  t = 0\n",
    "  while not done:\n",
    "    #env.render()\n",
    "    action = agentoo7.act(state)\n",
    "    #print(action)\n",
    "    next_state, reward, done, _ = env.step(action)\n",
    "    agentoo7.update_mem(state, action, reward, next_state, done)\n",
    "    agentoo7.train()\n",
    "    state = next_state\n",
    "    total_reward += reward\n",
    "    t += 1\n",
    "    if done:\n",
    "        ep_reward.append(total_reward)\n",
    "        avg_reward = np.mean(ep_reward[-10:])\n",
    "        total_avgr.append(avg_reward)\n",
    "        print(\"total reward after {} episode is {} and epsilon is {}\".format(s, total_reward, agentoo7.epsilon))"
   ]
  },
  {
   "cell_type": "code",
   "execution_count": 8,
   "metadata": {},
   "outputs": [],
   "source": [
    "import matplotlib.pyplot as plt"
   ]
  },
  {
   "cell_type": "code",
   "execution_count": 9,
   "metadata": {
    "colab": {},
    "colab_type": "code",
    "id": "aTYYAr79I-AT"
   },
   "outputs": [
    {
     "data": {
      "image/png": "[encoded data removed]",
      "text/plain": [
       "<Figure size 432x288 with 1 Axes>"
      ]
     },
     "metadata": {
      "needs_background": "light"
     },
     "output_type": "display_data"
    }
   ],
   "source": [
    "ep = [i  for i in range(steps)]\n",
    "plt.plot(ep,total_avgr,'b')\n",
    "plt.title(\"avg reward Vs episods\")\n",
    "plt.xlabel(\"episods\")\n",
    "plt.ylabel(\"average reward per 10 episods\")\n",
    "plt.grid(True)\n",
    "plt.show()\n"
   ]
  },
  {
   "cell_type": "code",
   "execution_count": null,
   "metadata": {},
   "outputs": [],
   "source": []
  }
 ],
 "metadata": {
  "accelerator": "GPU",
  "colab": {
   "authorship_tag": "ABX9TyNPRdMK9P/GIEjvtu5dIQE4",
   "include_colab_link": true,
   "name": "DQN.ipynb",
   "provenance": []
  },
  "kernelspec": {
   "display_name": ".venv",
   "language": "python",
   "name": "python3"
  },
  "language_info": {
   "codemirror_mode": {
    "name": "ipython",
    "version": 3
   },
   "file_extension": ".py",
   "mimetype": "text/x-python",
   "name": "python",
   "nbconvert_exporter": "python",
   "pygments_lexer": "ipython3",
   "version": "3.12.3"
  }
 },
 "nbformat": 4,
 "nbformat_minor": 4
}
